{
 "cells": [
  {
   "cell_type": "code",
   "execution_count": 14,
   "metadata": {},
   "outputs": [
    {
     "name": "stdout",
     "output_type": "stream",
     "text": [
      "[]\n",
      "[1, 2, 'foo', 'bar']\n",
      "[1, 2, 'foo', 'bar', 'kaka']\n",
      "[1, 100, 'foo', 'bar', 'kaka']\n",
      "kaka\n",
      "[100, 'foo']\n",
      "[[1, 2, 3], [2, 3, 4]]\n",
      "(1, 100, 'foo', 'bar', 'kaka')\n",
      "2\n",
      "3\n",
      "[1, 8, 7, 3, 2, 3]\n",
      "[1, 2, 3, 3, 7, 8]\n"
     ]
    }
   ],
   "source": [
    "emptyList = []\n",
    "print(emptyList)\n",
    "\n",
    "myList = [1, 2, 'foo', 'bar']\n",
    "print(myList)\n",
    "\n",
    "myList.append('kaka')\n",
    "print(myList)\n",
    "\n",
    "myList[1] = 100\n",
    "print(myList)\n",
    "\n",
    "\n",
    "print(myList[-1])\n",
    "\n",
    "print(myList[1:3])\n",
    "\n",
    "mulList = [[1,2,3], [2,3,4]]\n",
    "print(mulList)\n",
    "\n",
    "print(tuple(myList))\n",
    "\n",
    "\n",
    "l = [3, 2, 3, 7, 8, 1]\n",
    "print(l.count(3))\n",
    "print(l.index(7))\n",
    "l.reverse()\n",
    "print(l)\n",
    "l.sort()\n",
    "print(l)\n"
   ]
  },
  {
   "cell_type": "code",
   "execution_count": 15,
   "metadata": {},
   "outputs": [
    {
     "name": "stdout",
     "output_type": "stream",
     "text": [
      "()\n",
      "(1, 2, 'hahaha')\n",
      "(1, 2, 'hahaha', 'foo')\n",
      "foo\n",
      "(2, 'hahaha')\n",
      "((1, 2, 3), (2, 3, 4))\n",
      "[1, 2, 'hahaha', 'foo']\n",
      "2\n",
      "3\n",
      "[1, 8, 7, 3, 2, 3]\n",
      "[1, 2, 3, 3, 7, 8]\n"
     ]
    }
   ],
   "source": [
    "emptyTup = ()\n",
    "print(emptyTup)\n",
    "\n",
    "tup = (1, 2, 'hahaha')\n",
    "print(tup)\n",
    "\n",
    "# tuple是不可变得\n",
    "tup += ('foo',)\n",
    "print(tup)\n",
    "\n",
    "print(tup[-1])\n",
    "\n",
    "print(tup[1:3])\n",
    "\n",
    "mulTup = ((1,2,3),(2,3,4))\n",
    "print(mulTup)\n",
    "\n",
    "print(list(tup))\n",
    "\n",
    "tup = (3, 2, 3, 7, 8, 1)\n",
    "print(tup.count(3))\n",
    "print(tup.index(7))\n",
    "\n",
    "print(list(reversed(tup)))\n",
    "\n",
    "print(sorted(tup))\n"
   ]
  },
  {
   "cell_type": "code",
   "execution_count": null,
   "metadata": {},
   "outputs": [],
   "source": []
  }
 ],
 "metadata": {
  "kernelspec": {
   "display_name": "Python 3",
   "language": "python",
   "name": "python3"
  },
  "language_info": {
   "codemirror_mode": {
    "name": "ipython",
    "version": 3
   },
   "file_extension": ".py",
   "mimetype": "text/x-python",
   "name": "python",
   "nbconvert_exporter": "python",
   "pygments_lexer": "ipython3",
   "version": "3.7.6"
  }
 },
 "nbformat": 4,
 "nbformat_minor": 4
}
